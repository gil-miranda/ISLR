{
 "cells": [
  {
   "cell_type": "markdown",
   "metadata": {},
   "source": [
    "## Statistical Learning: exercises"
   ]
  },
  {
   "cell_type": "code",
   "execution_count": 1,
   "metadata": {},
   "outputs": [],
   "source": [
    "%load_ext autoreload\n",
    "%autoreload 2\n",
    "import numpy as np\n",
    "import pandas as pd\n",
    "import matplotlib.pyplot as plt"
   ]
  },
  {
   "cell_type": "markdown",
   "metadata": {},
   "source": [
    "3 - Suppose we have a data set with five predictors, $X_1$ = GPA, $X_2$ = IQ, $X_3$ = Level (1 for College and 0 for High School), $X_4$ = Interaction between GPA and IQ, and $X_5$ = Interaction between GPA and Level. The response is starting salary after graduation (in thousands of dollars). Suppose we use least squares to fit the model, and get $β_0$ = 50, $β_1$ = 20, $β_2$ = 0.07, $β_3$ = 35, $β_4$ = 0.01, $β_5$ = −10.<br>\n",
    "(a) Which answer is correct, and why?<br>\n",
    "i. For a fixed value of IQ and GPA, high school graduates earn more, on average, than college graduates.<br>\n",
    "ii. For a fixed value of IQ and GPA, college graduates earn more, on average, than high school graduates.<br>\n",
    "iii. For a fixed value of IQ and GPA, high school graduates earn more, on average, than college graduates provided that the\n",
    "GPA is high enough.<br>\n",
    "iv. For a fixed value of IQ and GPA, college graduates earn more, on average, than high school graduates provided that the GPA is high enough."
   ]
  },
  {
   "cell_type": "markdown",
   "metadata": {},
   "source": [
    "5 - Consider the fitted values that result from performing linear regression without an intercept. In this setting, the ith fitted value takes the form $\\hat{y}_i$ = $x_i\\hat{β}$, where\n",
    "\n",
    "$$\\hat{β}=\\frac{(\\sum_{i=1}^n x_i y_i)}{(\\sum_{i'=1}^n x_i'^2)}$$\n",
    "Show that we can write<br>\n",
    "$$ \\hat{y_i} = \\sum_{i'=1}^n a_i' y_i' $$\n",
    "\n",
    "What is $a_i'$ ?\n",
    "\n",
    "_Note: We interpret this result by saying that the fitted values from\n",
    "linear regression are linear combinations of the response values._"
   ]
  }
 ],
 "metadata": {
  "interpreter": {
   "hash": "b968f7a31f233996e946d3a36e923268eb65dc5d6f45fa1f8c106a0eded9d106"
  },
  "kernelspec": {
   "display_name": "Python 3.8.10 ('ISLR')",
   "language": "python",
   "name": "python3"
  },
  "language_info": {
   "codemirror_mode": {
    "name": "ipython",
    "version": 3
   },
   "file_extension": ".py",
   "mimetype": "text/x-python",
   "name": "python",
   "nbconvert_exporter": "python",
   "pygments_lexer": "ipython3",
   "version": "3.8.10"
  },
  "orig_nbformat": 4
 },
 "nbformat": 4,
 "nbformat_minor": 2
}
