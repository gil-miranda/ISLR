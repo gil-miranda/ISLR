{
 "cells": [
  {
   "cell_type": "markdown",
   "metadata": {},
   "source": [
    "3 - Suppose we have a data set with five predictors, $X_1$ = GPA, $X_2$ = IQ, $X_3$ = Level (1 for College and 0 for High School), $X_4$ = Interaction between GPA and IQ, and $X_5$ = Interaction between GPA and Level. The response is starting salary after graduation (in thousands of dollars). Suppose we use least squares to fit the model, and get $β_0$ = 50, $β_1$ = 20, $β_2$ = 0.07, $β_3$ = 35, $β_4$ = 0.01, $β_5$ = −10.<br>\n",
    "(a) Which answer is correct, and why?<br>\n",
    "&emsp;i. For a fixed value of IQ and GPA, high school graduates earn more, on average, than college graduates.<br>\n",
    "&emsp;ii. For a fixed value of IQ and GPA, college graduates earn more, on average, than high school graduates.<br>\n",
    "&emsp;iii. For a fixed value of IQ and GPA, high school graduates earn more, on average, than college graduates provided that the GPA is high enough.<br>\n",
    "&emsp;iv. For a fixed value of IQ and GPA, college graduates earn more, on average, than high school graduates provided that the GPA is high enough.<br>\n",
    "(b) Predict the salary of a college graduate with IQ of 110 and a GPA of 4.0.<br>\n",
    "(c) True or false: Since the coefficient for the GPA/IQ interaction term is very small, there is very little evidence of an interaction effect. Justify your answer."
   ]
  },
  {
   "cell_type": "markdown",
   "metadata": {},
   "source": [
    "a)\n",
    "i. Wrong\n",
    "\n",
    "$Y_{college}=β_0 + β_1×GPA + β_2×IQ + β_3 + β_4×GPA×IQ + β_5×GPA $<br>\n",
    "\n",
    "$Y_{highschool}=β_0 + β_1×GPA + β_2×IQ + β_4×GPA×IQ$<br>\n",
    "\n",
    "$Y_{highschool} - Y_{college} =  β_3 + β_5×GPA = 35 - 10×GPA$\n",
    "\n",
    "ii. Wrong\n",
    "\n",
    "If GPA = 0, then\n",
    "\n",
    "$Y_{college} - Y_{highschool} = -35 + 10×(3.5)  \\Rightarrow Y_{college} = Y_{HS}$\n",
    "\n",
    "iii. Correct\n",
    "\n",
    "$Y_{college} - Y_{highschool} =  β_5×GPA -35  = 10×GPA - 35 $\n",
    "\n",
    "\n",
    "b) Given GPA = 4.0, IQ = 110, and Level = 1 (College), then: <br> $Y=50 + 20×4.0 + 0.07×110 + 35×1 + 0.01×4.0×110 + -10×4.0×1 = 137.1$\n",
    "\n",
    "c) False: the evidence must be evaluated with a statistic test, using a t-statistic or F-statistic to test $H_0$: β_4 has no effect in the model\n"
   ]
  }
 ],
 "metadata": {
  "interpreter": {
   "hash": "b968f7a31f233996e946d3a36e923268eb65dc5d6f45fa1f8c106a0eded9d106"
  },
  "kernelspec": {
   "display_name": "Python 3.8.10 ('ISLR')",
   "language": "python",
   "name": "python3"
  },
  "language_info": {
   "codemirror_mode": {
    "name": "ipython",
    "version": 3
   },
   "file_extension": ".py",
   "mimetype": "text/x-python",
   "name": "python",
   "nbconvert_exporter": "python",
   "pygments_lexer": "ipython3",
   "version": "3.8.10"
  },
  "orig_nbformat": 4
 },
 "nbformat": 4,
 "nbformat_minor": 2
}
