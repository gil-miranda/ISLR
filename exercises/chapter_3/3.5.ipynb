{
 "cells": [
  {
   "cell_type": "markdown",
   "metadata": {},
   "source": [
    "5 - Consider the fitted values that result from performing linear regression without an intercept. In this setting, the ith fitted value takes the form $\\hat{y}_i$ = $x_i\\hat{β}$, where\n",
    "\n",
    "$$\\hat{β}=\\frac{(\\sum_{i=1}^n x_i y_i)}{(\\sum_{i'=1}^n x_{i'}^2)}$$\n",
    "Show that we can write<br>\n",
    "$$ \\hat{y_i} = \\sum_{i'=1}^n a_{i'} y_{i'} $$\n",
    "\n",
    "What is $a_{i'}$ ?\n",
    "\n",
    "_Note: We interpret this result by saying that the fitted values from\n",
    "linear regression are linear combinations of the response values._"
   ]
  },
  {
   "cell_type": "markdown",
   "metadata": {},
   "source": [
    "Response:\n",
    "\n",
    "$$ \\hat{y}_i = x_i \\hat{\\beta} \\tag{Eq. 1} $$\n",
    "\n",
    "$$ \\hat{β}=\\frac{(\\sum_{i=1}^n x_i y_i)}{(\\sum_{i'=1}^n x_{i'}^2)} \\tag{Eq. 2}$$\n",
    "\n",
    "$$ \\hat{y_i} = \\sum_{i'=1}^n a_{i'} y_{i'} \\tag{Eq. 3} $$ \n",
    "\n",
    "Eq. 2 on Eq. 1:\n",
    "\n",
    "$$ \\hat{y}_i = x_i \\frac{(\\sum_{i=1}^n x_i y_i)}{(\\sum_{i'=1}^n x_{i'}^2 )} \\tag{Eq. 4}$$\n",
    "\n",
    "After some few manipulations,\n",
    "\n",
    "$$ \\hat{y}_i = \\sum_{i=1}^n \\left(\\frac{x_i x_{i'} }{\\sum_{i'=1}^n x_{i'}^2} \\right) y_i  \\tag{Eq. 4.1}$$"
   ]
  }
 ],
 "metadata": {
  "interpreter": {
   "hash": "b968f7a31f233996e946d3a36e923268eb65dc5d6f45fa1f8c106a0eded9d106"
  },
  "kernelspec": {
   "display_name": "Python 3.8.10 ('ISLR')",
   "language": "python",
   "name": "python3"
  },
  "language_info": {
   "name": "python",
   "version": "3.8.10"
  },
  "orig_nbformat": 4
 },
 "nbformat": 4,
 "nbformat_minor": 2
}
